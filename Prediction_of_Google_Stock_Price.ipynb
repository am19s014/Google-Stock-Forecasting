{
 "cells": [
  {
   "cell_type": "code",
   "execution_count": null,
   "id": "81e2007e",
   "metadata": {},
   "outputs": [],
   "source": [
    "import pandas as pd\n",
    "import yfinance as yf\n",
    "from yahoofinancials import YahooFinancials\n",
    "import numpy as np\n",
    "import matplotlib.pyplot as plt\n",
    "import warnings\n",
    "import pandas_datareader as web\n",
    "import fbprophet"
   ]
  },
  {
   "cell_type": "code",
   "execution_count": null,
   "id": "968ac9ac",
   "metadata": {
    "scrolled": true
   },
   "outputs": [],
   "source": [
    "#data= yf.download(\"GOOG\", start='2020-09-27',end='2021-09-28',progress=False,header=None)\n",
    "#data.head()\n",
    "df=pd.read_csv(\"GOOG.csv\")\n",
    "df.head()"
   ]
  },
  {
   "cell_type": "code",
   "execution_count": null,
   "id": "01a44ae4",
   "metadata": {},
   "outputs": [],
   "source": [
    "plt.style.use(\"fivethirtyeight\")\n",
    "plt.figure(figsize=(16,8))\n",
    "plt.title(\"Google Closing Stock Price\")\n",
    "plt.plot(df[\"Close\"])\n",
    "plt.xlabel(\"Date\",fontsize=18)\n",
    "plt.ylabel(\"Close price USD ($)\", fontsize=18)\n",
    "plt.show()"
   ]
  },
  {
   "cell_type": "code",
   "execution_count": null,
   "id": "2d252b01",
   "metadata": {},
   "outputs": [],
   "source": [
    "df = df[[\"Date\",\"Close\"]] \n",
    "df = df.rename(columns = {\"Date\":\"ds\",\"Close\":\"y\"})\n",
    "df.head()"
   ]
  },
  {
   "cell_type": "code",
   "execution_count": null,
   "id": "80a1da3d",
   "metadata": {},
   "outputs": [],
   "source": [
    "#from fbprophet import Prophet\n",
    "#m = Prophet(yearly_seasonality=True)\n",
    "#m.fit(df)\n",
    "#future=m.make_future_dataframe(periods=9, freq=\"M\")\n",
    "#forecast = m.predict(future)\n",
    "#m.plot(forecast)\n",
    "#m.plot_component(forecast)\n",
    "from fbprophet import Prophet\n",
    "m = Prophet(daily_seasonality=True)\n",
    "m.fit(df)\n"
   ]
  },
  {
   "cell_type": "code",
   "execution_count": null,
   "id": "4497fee3",
   "metadata": {},
   "outputs": [],
   "source": [
    "future = m.make_future_dataframe(periods=365)\n",
    "predictions=m.predict(future)\n",
    "m.plot(predictions)\n",
    "plt.title(\"Prediction of GOOGLE Stock Price\")\n",
    "plt.xlabel(\"Date\")\n",
    "plt.ylabel(\"Closing Stock Price\")\n",
    "plt.show()"
   ]
  },
  {
   "cell_type": "code",
   "execution_count": null,
   "id": "3b462daf",
   "metadata": {},
   "outputs": [],
   "source": [
    "m.plot_components(predictions)\n",
    "plt.show()"
   ]
  }
 ],
 "metadata": {
  "kernelspec": {
   "display_name": "Python 3",
   "language": "python",
   "name": "python3"
  },
  "language_info": {
   "codemirror_mode": {
    "name": "ipython",
    "version": 3
   },
   "file_extension": ".py",
   "mimetype": "text/x-python",
   "name": "python",
   "nbconvert_exporter": "python",
   "pygments_lexer": "ipython3",
   "version": "3.8.8"
  }
 },
 "nbformat": 4,
 "nbformat_minor": 5
}
